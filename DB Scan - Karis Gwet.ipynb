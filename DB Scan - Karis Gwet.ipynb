{
 "cells": [
  {
   "cell_type": "markdown",
   "id": "f64b11a4",
   "metadata": {},
   "source": [
    "# Karis Gwet - DBSCAN"
   ]
  },
  {
   "cell_type": "markdown",
   "id": "86148a8d",
   "metadata": {},
   "source": [
    "# 1. Generate a random cluster dataset"
   ]
  },
  {
   "cell_type": "code",
   "execution_count": 501,
   "id": "a0a4f434",
   "metadata": {},
   "outputs": [],
   "source": [
    "from sklearn.datasets import make_blobs"
   ]
  },
  {
   "cell_type": "code",
   "execution_count": 502,
   "id": "c42e3ded",
   "metadata": {},
   "outputs": [],
   "source": [
    "X, y = make_blobs(n_samples=750, centers=3, cluster_std=0.4, n_features=2,random_state=0)"
   ]
  },
  {
   "cell_type": "markdown",
   "id": "47a04b35",
   "metadata": {},
   "source": [
    "# 2. Visualize the data"
   ]
  },
  {
   "cell_type": "code",
   "execution_count": 503,
   "id": "ce3ca35c",
   "metadata": {},
   "outputs": [],
   "source": [
    "import matplotlib.pyplot as plt"
   ]
  },
  {
   "cell_type": "code",
   "execution_count": 504,
   "id": "13f5d7b0",
   "metadata": {},
   "outputs": [
    {
     "data": {
      "image/png": "[encoded data removed]",
      "text/plain": [
       "<Figure size 432x288 with 1 Axes>"
      ]
     },
     "metadata": {
      "needs_background": "light"
     },
     "output_type": "display_data"
    }
   ],
   "source": [
    "plt.scatter(X[:,0], X[:,1], c=y);"
   ]
  },
  {
   "cell_type": "markdown",
   "id": "abedbb8a",
   "metadata": {},
   "source": [
    "# 3. Create functions from scratch that allow you to call DBSCAN on a dataset"
   ]
  },
  {
   "cell_type": "markdown",
   "id": "f5e4f8be",
   "metadata": {},
   "source": [
    "Dans un premier temps, on va prendre aléatoirement des \"Core Points\". \n",
    "\n",
    "Un Core Point est un point qui enveloppe plusieurs autres points (càd le nombre de points qui sont proches du point aléatoirement choisi). Le nombre de points enveloppé est choisi arbitrairement selon le problème que l'on rencontre.\n",
    "\n",
    "Le premier core point choisi aléatoirement fera parti de notre premier cluster. Tous les autres points qui sont proches du Core Point feront aussi parti du premier cluster. Tous les Core Points qui sont proches du premier cluster sont ajoutés au premier cluster.\n",
    "\n",
    "Tous les Non Core Points qui sont proches du 1er cluster, seront ajoutés au premier cluster."
   ]
  },
  {
   "cell_type": "markdown",
   "id": "7ac2e8ed",
   "metadata": {},
   "source": [
    "Le but de notre fonction core_point va être de vérifier si le point donné est un core point, un noise, ou un border. "
   ]
  },
  {
   "cell_type": "code",
   "execution_count": 64,
   "id": "24e8f066",
   "metadata": {},
   "outputs": [],
   "source": [
    "import pandas as pd\n",
    "import numpy as np\n",
    "import random"
   ]
  },
  {
   "cell_type": "code",
   "execution_count": 45,
   "id": "84a714a2",
   "metadata": {},
   "outputs": [],
   "source": [
    "df = pd.DataFrame(X, columns = [\"coord_x\", \"coord_y\"])"
   ]
  },
  {
   "cell_type": "code",
   "execution_count": 46,
   "id": "119fdb4f",
   "metadata": {
    "scrolled": true
   },
   "outputs": [
    {
     "data": {
      "text/html": [
       "<div>\n",
       "<style scoped>\n",
       "    .dataframe tbody tr th:only-of-type {\n",
       "        vertical-align: middle;\n",
       "    }\n",
       "\n",
       "    .dataframe tbody tr th {\n",
       "        vertical-align: top;\n",
       "    }\n",
       "\n",
       "    .dataframe thead th {\n",
       "        text-align: right;\n",
       "    }\n",
       "</style>\n",
       "<table border=\"1\" class=\"dataframe\">\n",
       "  <thead>\n",
       "    <tr style=\"text-align: right;\">\n",
       "      <th></th>\n",
       "      <th>coord_x</th>\n",
       "      <th>coord_y</th>\n",
       "    </tr>\n",
       "  </thead>\n",
       "  <tbody>\n",
       "    <tr>\n",
       "      <th>0</th>\n",
       "      <td>2.364345</td>\n",
       "      <td>0.233024</td>\n",
       "    </tr>\n",
       "    <tr>\n",
       "      <th>1</th>\n",
       "      <td>0.923118</td>\n",
       "      <td>4.184671</td>\n",
       "    </tr>\n",
       "    <tr>\n",
       "      <th>2</th>\n",
       "      <td>1.642210</td>\n",
       "      <td>0.722964</td>\n",
       "    </tr>\n",
       "    <tr>\n",
       "      <th>3</th>\n",
       "      <td>1.975908</td>\n",
       "      <td>0.935341</td>\n",
       "    </tr>\n",
       "    <tr>\n",
       "      <th>4</th>\n",
       "      <td>-1.687527</td>\n",
       "      <td>2.730492</td>\n",
       "    </tr>\n",
       "    <tr>\n",
       "      <th>...</th>\n",
       "      <td>...</td>\n",
       "      <td>...</td>\n",
       "    </tr>\n",
       "    <tr>\n",
       "      <th>745</th>\n",
       "      <td>2.246027</td>\n",
       "      <td>0.957043</td>\n",
       "    </tr>\n",
       "    <tr>\n",
       "      <th>746</th>\n",
       "      <td>1.047241</td>\n",
       "      <td>4.143075</td>\n",
       "    </tr>\n",
       "    <tr>\n",
       "      <th>747</th>\n",
       "      <td>1.841564</td>\n",
       "      <td>4.838399</td>\n",
       "    </tr>\n",
       "    <tr>\n",
       "      <th>748</th>\n",
       "      <td>2.168979</td>\n",
       "      <td>1.594731</td>\n",
       "    </tr>\n",
       "    <tr>\n",
       "      <th>749</th>\n",
       "      <td>0.737744</td>\n",
       "      <td>4.282760</td>\n",
       "    </tr>\n",
       "  </tbody>\n",
       "</table>\n",
       "<p>750 rows × 2 columns</p>\n",
       "</div>"
      ],
      "text/plain": [
       "      coord_x   coord_y\n",
       "0    2.364345  0.233024\n",
       "1    0.923118  4.184671\n",
       "2    1.642210  0.722964\n",
       "3    1.975908  0.935341\n",
       "4   -1.687527  2.730492\n",
       "..        ...       ...\n",
       "745  2.246027  0.957043\n",
       "746  1.047241  4.143075\n",
       "747  1.841564  4.838399\n",
       "748  2.168979  1.594731\n",
       "749  0.737744  4.282760\n",
       "\n",
       "[750 rows x 2 columns]"
      ]
     },
     "execution_count": 46,
     "metadata": {},
     "output_type": "execute_result"
    }
   ],
   "source": [
    "df"
   ]
  },
  {
   "cell_type": "code",
   "execution_count": 492,
   "id": "498c8ce2",
   "metadata": {},
   "outputs": [
    {
     "data": {
      "text/plain": [
       "Text(0.5, 1.0, 'Scattered data')"
      ]
     },
     "execution_count": 492,
     "metadata": {},
     "output_type": "execute_result"
    },
    {
     "data": {
      "image/png": "[encoded data removed]",
      "text/plain": [
       "<Figure size 432x288 with 1 Axes>"
      ]
     },
     "metadata": {
      "needs_background": "light"
     },
     "output_type": "display_data"
    }
   ],
   "source": [
    "centers = [(0, 4), (5, 5) , (8,2)]\n",
    "cluster_std = [1.2, 1, 1.1]\n",
    "\n",
    "X, y= make_blobs(n_samples=200, cluster_std=cluster_std, centers=centers, n_features=2, random_state=1)\n",
    "\n",
    "plt.scatter(X[y == 0, 0], X[y == 0, 1], s=10, label=\"Cluster1\")\n",
    "plt.scatter(X[y == 1, 0], X[y == 1, 1], s=10, label=\"Cluster2\")\n",
    "plt.scatter(X[y == 2, 0], X[y == 2, 1], s=10, label=\"Cluster3\")\n",
    "plt.title(\"Scattered data\")"
   ]
  },
  {
   "cell_type": "markdown",
   "id": "5813a485",
   "metadata": {},
   "source": [
    "Plus facile de traiter cela avec un dataframe"
   ]
  },
  {
   "cell_type": "code",
   "execution_count": 485,
   "id": "7afc2c40",
   "metadata": {},
   "outputs": [],
   "source": [
    "def what_is_the_point(eps, df, minimum_pts, idx):\n",
    "    x_pt, y_pt = df.iloc[idx]['coord_x']  , df.iloc[idx]['coord_y']\n",
    "    pts_index = []\n",
    "    pts =  df[((np.abs(x_pt - df['coord_x']) <= eps) & (np.abs(y_pt - df['coord_y']) <= eps)) & (df.index != idx)]\n",
    "    #points inside the circle\n",
    "\n",
    "    if(len(pts) >= minimum_pts): #minimum numbers of points inside the circle\n",
    "        #it's a core point\n",
    "        pts_index = pts.index #all of our points in our circle\n",
    "        core = True\n",
    "        border = False\n",
    "        noise = False\n",
    "        return (pts.index, core, border, noise)\n",
    "    elif(len(pts) > 0 and len(pts) < minimum_pts):\n",
    "        #it's a border point (it has at least 1 point)\n",
    "        #we will see in cluster_points how to put it in a cluster\n",
    "        pts_index = pts.index \n",
    "        core = False\n",
    "        border = True\n",
    "        noise = False\n",
    "        return (pts.index, core, border, noise)\n",
    "    elif(len(pts) == 0):\n",
    "        #it's a noise point (it doesn't have the minimum number of points)\n",
    "        pts_index = pts.index \n",
    "        core = False\n",
    "        border = False\n",
    "        noise = True\n",
    "        return (pts.index, core, border, noise)"
   ]
  },
  {
   "cell_type": "code",
   "execution_count": 486,
   "id": "4d81a9b8",
   "metadata": {},
   "outputs": [],
   "source": [
    "def cluster_points(eps, df, minimum_pts):\n",
    "    \n",
    "    initial_cluster = 1\n",
    "    clusters = []\n",
    "    #curr_circle = []\n",
    "    cur_pts = set()\n",
    "    pts_idx = list(df.index) #all of my points\n",
    "    #i = 0\n",
    "    \n",
    "    while(len(pts_idx) != 0): \n",
    "        frst_pt = True #first iteration\n",
    "        cur_pts.add(random.choice(pts_idx))\n",
    "    \n",
    "        while(len(cur_pts) != 0):\n",
    "            cur_pt = cur_pts.pop() #we choose a random point among all our points\n",
    "\n",
    "            #now we have to know what is its nature\n",
    "            pts_index, core, border, noise = what_is_the_point(eps, df, minimum_pts, cur_pt)\n",
    "            if(border & frst_pt):\n",
    "                #for first border point, we label it aand its neighbours as noise \n",
    "                clusters.append((cur_pt, 0))\n",
    "                clusters.extend(list(zip(pts_index,[0 for _ in range(len(pts_index))])))\n",
    "                \n",
    "                #label as visited\n",
    "                pts_idx.remove(cur_pt)\n",
    "                pts_idx = [e for e in pts_idx if e not in pts_index]\n",
    "    \n",
    "                continue\n",
    "            \n",
    "            pts_idx.remove(cur_pt)\n",
    "            neighbors_idx = set(pts_index) & set(pts_idx) #look at only unvisited points\n",
    "            \n",
    "            if(core): #it's a core\n",
    "                frst_pt = False\n",
    "                clusters.append((cur_pt,initial_cluster))\n",
    "                cur_pts.update(neighbors_idx)\n",
    "            elif(border): #it's a border but i can't not attribute a cluster for the moment\n",
    "                clusters.append((cur_pt, initial_cluster))\n",
    "                continue\n",
    "            elif(noise): #if current point is noise\n",
    "                clusters.append((cur_pt, 0))\n",
    "                continue\n",
    "                \n",
    "        if not frst_pt:\n",
    "            #increment cluster number\n",
    "            initial_cluster = initial_cluster + 1\n",
    "    #i = i + 1           \n",
    "    return clusters"
   ]
  },
  {
   "cell_type": "code",
   "execution_count": 517,
   "id": "1efacbd2",
   "metadata": {},
   "outputs": [],
   "source": [
    "eps = 0.45\n",
    "minimum_pts = 6\n",
    "\n",
    "df = pd.DataFrame(X, columns = [\"coord_x\", \"coord_y\"])\n",
    "clustered = cluster_points(eps, df, minimum_pts)"
   ]
  },
  {
   "cell_type": "code",
   "execution_count": 518,
   "id": "67a9e392",
   "metadata": {},
   "outputs": [
    {
     "data": {
      "text/html": [
       "<div>\n",
       "<style scoped>\n",
       "    .dataframe tbody tr th:only-of-type {\n",
       "        vertical-align: middle;\n",
       "    }\n",
       "\n",
       "    .dataframe tbody tr th {\n",
       "        vertical-align: top;\n",
       "    }\n",
       "\n",
       "    .dataframe thead th {\n",
       "        text-align: right;\n",
       "    }\n",
       "</style>\n",
       "<table border=\"1\" class=\"dataframe\">\n",
       "  <thead>\n",
       "    <tr style=\"text-align: right;\">\n",
       "      <th></th>\n",
       "      <th>coord_x</th>\n",
       "      <th>coord_y</th>\n",
       "    </tr>\n",
       "  </thead>\n",
       "  <tbody>\n",
       "    <tr>\n",
       "      <th>0</th>\n",
       "      <td>2.364345</td>\n",
       "      <td>0.233024</td>\n",
       "    </tr>\n",
       "    <tr>\n",
       "      <th>1</th>\n",
       "      <td>0.923118</td>\n",
       "      <td>4.184671</td>\n",
       "    </tr>\n",
       "    <tr>\n",
       "      <th>2</th>\n",
       "      <td>1.642210</td>\n",
       "      <td>0.722964</td>\n",
       "    </tr>\n",
       "    <tr>\n",
       "      <th>3</th>\n",
       "      <td>1.975908</td>\n",
       "      <td>0.935341</td>\n",
       "    </tr>\n",
       "    <tr>\n",
       "      <th>4</th>\n",
       "      <td>-1.687527</td>\n",
       "      <td>2.730492</td>\n",
       "    </tr>\n",
       "    <tr>\n",
       "      <th>...</th>\n",
       "      <td>...</td>\n",
       "      <td>...</td>\n",
       "    </tr>\n",
       "    <tr>\n",
       "      <th>745</th>\n",
       "      <td>2.246027</td>\n",
       "      <td>0.957043</td>\n",
       "    </tr>\n",
       "    <tr>\n",
       "      <th>746</th>\n",
       "      <td>1.047241</td>\n",
       "      <td>4.143075</td>\n",
       "    </tr>\n",
       "    <tr>\n",
       "      <th>747</th>\n",
       "      <td>1.841564</td>\n",
       "      <td>4.838399</td>\n",
       "    </tr>\n",
       "    <tr>\n",
       "      <th>748</th>\n",
       "      <td>2.168979</td>\n",
       "      <td>1.594731</td>\n",
       "    </tr>\n",
       "    <tr>\n",
       "      <th>749</th>\n",
       "      <td>0.737744</td>\n",
       "      <td>4.282760</td>\n",
       "    </tr>\n",
       "  </tbody>\n",
       "</table>\n",
       "<p>750 rows × 2 columns</p>\n",
       "</div>"
      ],
      "text/plain": [
       "      coord_x   coord_y\n",
       "0    2.364345  0.233024\n",
       "1    0.923118  4.184671\n",
       "2    1.642210  0.722964\n",
       "3    1.975908  0.935341\n",
       "4   -1.687527  2.730492\n",
       "..        ...       ...\n",
       "745  2.246027  0.957043\n",
       "746  1.047241  4.143075\n",
       "747  1.841564  4.838399\n",
       "748  2.168979  1.594731\n",
       "749  0.737744  4.282760\n",
       "\n",
       "[750 rows x 2 columns]"
      ]
     },
     "execution_count": 518,
     "metadata": {},
     "output_type": "execute_result"
    }
   ],
   "source": [
    "df"
   ]
  },
  {
   "cell_type": "code",
   "execution_count": 519,
   "id": "264ca1cf",
   "metadata": {},
   "outputs": [
    {
     "data": {
      "text/plain": [
       "0      636\n",
       "1      168\n",
       "2       14\n",
       "3      528\n",
       "4      530\n",
       "      ... \n",
       "745    177\n",
       "746    181\n",
       "747    184\n",
       "748    188\n",
       "749    376\n",
       "Name: idx, Length: 750, dtype: int64"
      ]
     },
     "execution_count": 519,
     "metadata": {},
     "output_type": "execute_result"
    }
   ],
   "source": [
    "cluster_df = pd.DataFrame(clustered, columns = [\"idx\", \"cluster\"])\n",
    "cluster_df.idx"
   ]
  },
  {
   "cell_type": "code",
   "execution_count": 520,
   "id": "10e6b0a5",
   "metadata": {},
   "outputs": [
    {
     "data": {
      "image/png": "[encoded data removed]",
      "text/plain": [
       "<Figure size 720x504 with 1 Axes>"
      ]
     },
     "metadata": {
      "needs_background": "light"
     },
     "output_type": "display_data"
    }
   ],
   "source": [
    "idx , cluster = list(zip(*clustered))\n",
    "cluster_df = pd.DataFrame(clustered, columns = [\"idx\", \"cluster\"])\n",
    "\n",
    "plt.figure(figsize=(10,7))\n",
    "for clust in np.unique(cluster):\n",
    "    plt.scatter(X[cluster_df[\"idx\"][cluster_df[\"cluster\"] == clust].values, 0], X[cluster_df[\"idx\"][cluster_df[\"cluster\"] == clust].values, 1], s=10, label=f\"Cluster{clust}\")\n",
    "\n",
    "plt.legend([f\"Cluster {clust}\" for clust in np.unique(cluster)], loc =\"lower right\")\n",
    "plt.title('Clustered Data')\n",
    "plt.xlabel('X');\n",
    "plt.ylabel('Y');"
   ]
  }
 ],
 "metadata": {
  "kernelspec": {
   "display_name": "Python 3",
   "language": "python",
   "name": "python3"
  },
  "language_info": {
   "codemirror_mode": {
    "name": "ipython",
    "version": 3
   },
   "file_extension": ".py",
   "mimetype": "text/x-python",
   "name": "python",
   "nbconvert_exporter": "python",
   "pygments_lexer": "ipython3",
   "version": "3.6.13"
  }
 },
 "nbformat": 4,
 "nbformat_minor": 5
}
